{
  "nbformat": 4,
  "nbformat_minor": 0,
  "metadata": {
    "colab": {
      "provenance": []
    },
    "kernelspec": {
      "name": "python3",
      "display_name": "Python 3"
    },
    "language_info": {
      "name": "python"
    }
  },
  "cells": [
    {
      "cell_type": "markdown",
      "source": [
        "Ayan Shaikh\n",
        "\n",
        "Diabeties Prediction"
      ],
      "metadata": {
        "id": "FduDkybfKtYB"
      }
    },
    {
      "cell_type": "code",
      "source": [
        "import pandas as pd\n",
        "import numpy as np\n",
        "import seaborn as sns\n",
        "import matplotlib.pyplot as plt\n",
        "from sklearn.model_selection import train_test_split\n",
        "from sklearn.preprocessing import StandardScaler\n",
        "from sklearn.linear_model import LogisticRegression\n",
        "from sklearn.ensemble import RandomForestClassifier\n",
        "from sklearn.metrics import accuracy_score, confusion_matrix, classification_report"
      ],
      "metadata": {
        "id": "5RinchaOE5XO"
      },
      "execution_count": 8,
      "outputs": []
    },
    {
      "cell_type": "code",
      "execution_count": 9,
      "metadata": {
        "id": "2TZJkLLb6xWx"
      },
      "outputs": [],
      "source": [
        "# Load the dataset as CSV\n",
        "file_path = '/content/diabetes.csv.xls'\n",
        "df = pd.read_csv(file_path)\n"
      ]
    },
    {
      "cell_type": "code",
      "source": [
        "# Data preprocessing\n",
        "columns_with_zeros = ['Glucose', 'BloodPressure', 'SkinThickness', 'Insulin', 'BMI']\n",
        "for column in columns_with_zeros:\n",
        "    df[column] = df[column].replace(0, np.nan)\n",
        "    df[column] = df[column].fillna(df[column].median())\n"
      ],
      "metadata": {
        "id": "XvG7XfxnFCuL"
      },
      "execution_count": 10,
      "outputs": []
    },
    {
      "cell_type": "code",
      "source": [
        "# Feature scaling\n",
        "X = df.drop('Outcome', axis=1)\n",
        "y = df['Outcome']\n",
        "scaler = StandardScaler()\n",
        "X_scaled = scaler.fit_transform(X)"
      ],
      "metadata": {
        "id": "o61WVN4eFI_d"
      },
      "execution_count": 11,
      "outputs": []
    },
    {
      "cell_type": "code",
      "source": [
        "# Train-test split\n",
        "X_train, X_test, y_train, y_test = train_test_split(X_scaled, y, test_size=0.3, random_state=42)\n"
      ],
      "metadata": {
        "id": "K-HhhSliFKRw"
      },
      "execution_count": 13,
      "outputs": []
    },
    {
      "cell_type": "code",
      "source": [
        "# Train Logistic Regression\n",
        "logreg = LogisticRegression()\n",
        "logreg.fit(X_train, y_train)\n",
        "y_pred_logreg = logreg.predict(X_test)\n"
      ],
      "metadata": {
        "id": "fdADUfaTFSdv"
      },
      "execution_count": 14,
      "outputs": []
    },
    {
      "cell_type": "code",
      "source": [
        "# Evaluate Logistic Regression\n",
        "logreg_accuracy = accuracy_score(y_test, y_pred_logreg)\n",
        "logreg_conf_matrix = confusion_matrix(y_test, y_pred_logreg)\n",
        "logreg_class_report = classification_report(y_test, y_pred_logreg)"
      ],
      "metadata": {
        "id": "EuIFuWt3Fdkq"
      },
      "execution_count": 15,
      "outputs": []
    },
    {
      "cell_type": "code",
      "source": [
        "# Train Random Forest\n",
        "rf = RandomForestClassifier(n_estimators=100, random_state=42)\n",
        "rf.fit(X_train, y_train)\n",
        "y_pred_rf = rf.predict(X_test)\n"
      ],
      "metadata": {
        "id": "qPl6je1VFYf6"
      },
      "execution_count": 16,
      "outputs": []
    },
    {
      "cell_type": "code",
      "source": [
        "# Evaluate Random Forest\n",
        "rf_accuracy = accuracy_score(y_test, y_pred_rf)\n",
        "rf_conf_matrix = confusion_matrix(y_test, y_pred_rf)\n",
        "rf_class_report = classification_report(y_test, y_pred_rf)\n"
      ],
      "metadata": {
        "id": "87x6tYRbFg1C"
      },
      "execution_count": 17,
      "outputs": []
    },
    {
      "cell_type": "code",
      "source": [
        "print(f\"Logistic Regression Accuracy: {logreg_accuracy}\")\n",
        "print(f\"Random Forest Accuracy: {rf_accuracy}\")\n",
        "print(\"Logistic Regression Classification Report:\\n\", logreg_class_report)\n",
        "print(\"Random Forest Classification Report:\\n\", rf_class_report)"
      ],
      "metadata": {
        "colab": {
          "base_uri": "https://localhost:8080/"
        },
        "id": "iRztsZneFkL-",
        "outputId": "de1e713c-c31e-4867-d461-7c11fa0e91f6"
      },
      "execution_count": 18,
      "outputs": [
        {
          "output_type": "stream",
          "name": "stdout",
          "text": [
            "Logistic Regression Accuracy: 0.7402597402597403\n",
            "Random Forest Accuracy: 0.7489177489177489\n",
            "Logistic Regression Classification Report:\n",
            "               precision    recall  f1-score   support\n",
            "\n",
            "           0       0.79      0.82      0.81       151\n",
            "           1       0.64      0.59      0.61        80\n",
            "\n",
            "    accuracy                           0.74       231\n",
            "   macro avg       0.71      0.70      0.71       231\n",
            "weighted avg       0.74      0.74      0.74       231\n",
            "\n",
            "Random Forest Classification Report:\n",
            "               precision    recall  f1-score   support\n",
            "\n",
            "           0       0.82      0.79      0.81       151\n",
            "           1       0.63      0.66      0.65        80\n",
            "\n",
            "    accuracy                           0.75       231\n",
            "   macro avg       0.72      0.73      0.73       231\n",
            "weighted avg       0.75      0.75      0.75       231\n",
            "\n"
          ]
        }
      ]
    },
    {
      "cell_type": "code",
      "source": [
        "# Plot Logistic Regression Confusion Matrix\n",
        "plt.figure(figsize=(8, 6))\n",
        "sns.heatmap(logreg_conf_matrix, annot=True, fmt='d', cmap='Blues')\n",
        "plt.title('Logistic Regression Confusion Matrix')\n",
        "plt.xlabel('Predicted Labels')\n",
        "plt.ylabel('True Labels')\n",
        "plt.show()\n"
      ],
      "metadata": {
        "colab": {
          "base_uri": "https://localhost:8080/",
          "height": 564
        },
        "id": "xCsM_TtnFnTB",
        "outputId": "19fc6840-3159-437d-f0d8-3da5ce6622bb"
      },
      "execution_count": 19,
      "outputs": [
        {
          "output_type": "display_data",
          "data": {
            "text/plain": [
              "<Figure size 800x600 with 2 Axes>"
            ],
            "image/png": "[encoded data removed]"
          },
          "metadata": {}
        }
      ]
    },
    {
      "cell_type": "code",
      "source": [
        "# Plot Random Forest Confusion Matrix\n",
        "plt.figure(figsize=(8, 6))\n",
        "sns.heatmap(rf_conf_matrix, annot=True, fmt='d', cmap='Greens')\n",
        "plt.title('Random Forest Confusion Matrix')\n",
        "plt.xlabel('Predicted Labels')\n",
        "plt.ylabel('True Labels')\n",
        "plt.show()"
      ],
      "metadata": {
        "colab": {
          "base_uri": "https://localhost:8080/",
          "height": 564
        },
        "id": "JOgGHm5zFqFs",
        "outputId": "90b0358a-dd93-411e-87eb-d99b4e37433d"
      },
      "execution_count": 20,
      "outputs": [
        {
          "output_type": "display_data",
          "data": {
            "text/plain": [
              "<Figure size 800x600 with 2 Axes>"
            ],
            "image/png": "[encoded data removed]"
          },
          "metadata": {}
        }
      ]
    },
    {
      "cell_type": "code",
      "source": [
        "import pickle\n",
        "\n",
        "# Save the model to a file\n",
        "with open('diabetes_rf_model.pkl', 'wb') as file:\n",
        "    pickle.dump(rf, file)\n",
        "\n",
        "print(f\"Model saved as {model_filename}\")"
      ],
      "metadata": {
        "id": "tkSpvYyh65rm"
      },
      "execution_count": 3,
      "outputs": []
    },
    {
      "cell_type": "code",
      "source": [
        "# Load the model\n",
        "with open('diabetes_rf_model.pkl', 'rb') as file:\n",
        "    model = pickle.load(file)"
      ],
      "metadata": {
        "id": "4XS8uRPjEEVZ"
      },
      "execution_count": 4,
      "outputs": []
    },
    {
      "cell_type": "code",
      "source": [
        "# Prediction function\n",
        "def predict_diabetes(input_features):\n",
        "    \"\"\"\n",
        "    Predict if a person has diabetes based on input features.\n",
        "\n",
        "    Parameters:\n",
        "    input_features (list): A list of features in the following order:\n",
        "                           [Pregnancies, Glucose, BloodPressure, SkinThickness, Insulin, BMI, DiabetesPedigreeFunction, Age]\n",
        "\n",
        "    Returns:\n",
        "    str: 'Diabetes' or 'No Diabetes'\n",
        "    \"\"\"\n",
        "    # Transform the input features\n",
        "    input_features_scaled = scaler.transform([input_features])\n",
        "\n",
        "    # Predict\n",
        "    prediction = model.predict(input_features_scaled)\n",
        "\n",
        "    # Return the prediction\n",
        "    if prediction[0] == 1:\n",
        "        return 'Diabetes'\n",
        "    else:\n",
        "        return 'No Diabetes'"
      ],
      "metadata": {
        "id": "WaRHvb0QETFZ"
      },
      "execution_count": 5,
      "outputs": []
    },
    {
      "cell_type": "markdown",
      "source": [
        "Example\n",
        "If you want to predict for a person with the following features:\n",
        "<br><br>\n",
        "**Pregnancies:** 2<br>\n",
        "**Glucose:** 120<br>\n",
        "**Blood Pressure:** 80<br>\n",
        "**Skin Thickness:** 20<br>\n",
        "**Insulin:** 0<br>\n",
        "**BMI:** 32.4<br>\n",
        "**Diabetes Pedigree Function:** 0.627<br>\n",
        "**Age:** 50"
      ],
      "metadata": {
        "id": "3IypnXXkEkPu"
      }
    },
    {
      "cell_type": "code",
      "source": [
        "# Example usage\n",
        "input_features = [2, 120, 80, 20, 0, 32.4, 0.627, 50]\n",
        "result = predict_diabetes(input_features)\n",
        "print(f\"Prediction: {result}\")"
      ],
      "metadata": {
        "colab": {
          "base_uri": "https://localhost:8080/"
        },
        "id": "xt-BdrQUEaRG",
        "outputId": "f545d65d-704e-4c33-d497-0d875e3c1b37"
      },
      "execution_count": 7,
      "outputs": [
        {
          "output_type": "stream",
          "name": "stdout",
          "text": [
            "Prediction: No Diabetes\n"
          ]
        },
        {
          "output_type": "stream",
          "name": "stderr",
          "text": [
            "/usr/local/lib/python3.10/dist-packages/sklearn/base.py:439: UserWarning: X does not have valid feature names, but StandardScaler was fitted with feature names\n",
            "  warnings.warn(\n"
          ]
        }
      ]
    },
    {
      "cell_type": "code",
      "source": [],
      "metadata": {
        "id": "aW21wgG9EewL"
      },
      "execution_count": null,
      "outputs": []
    }
  ]
}